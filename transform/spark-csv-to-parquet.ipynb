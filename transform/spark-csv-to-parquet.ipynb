{
 "cells": [
  {
   "cell_type": "markdown",
   "id": "binding-delta",
   "metadata": {
    "papermill": {
     "duration": 0.016304,
     "end_time": "2021-03-22T20:29:23.476444",
     "exception": false,
     "start_time": "2021-03-22T20:29:23.460140",
     "status": "completed"
    },
    "tags": []
   },
   "source": [
    "# spark-csv-to-parquet"
   ]
  },
  {
   "cell_type": "markdown",
   "id": "63d16770-79ac-4255-a2d0-29412418bebf",
   "metadata": {},
   "source": [
    "Converts a CSV file with header to parquet using ApacheSpark"
   ]
  },
  {
   "cell_type": "code",
   "execution_count": 11,
   "id": "00292ce7-6ec1-4607-9c17-a405336b5bab",
   "metadata": {},
   "outputs": [],
   "source": [
    "import findspark\n",
    "findspark.init()"
   ]
  },
  {
   "cell_type": "code",
   "execution_count": 12,
   "id": "beginning-wisdom",
   "metadata": {
    "papermill": {
     "duration": 0.164002,
     "end_time": "2021-03-22T20:29:25.951504",
     "exception": false,
     "start_time": "2021-03-22T20:29:25.787502",
     "status": "completed"
    },
    "tags": []
   },
   "outputs": [],
   "source": [
    "from pyspark import SparkContext, SparkConf\n",
    "from pyspark.sql import SparkSession\n",
    "import os\n",
    "import sys\n",
    "import logging\n",
    "import re"
   ]
  },
  {
   "cell_type": "code",
   "execution_count": 13,
   "id": "abstract-cambridge",
   "metadata": {
    "papermill": {
     "duration": 0.012801,
     "end_time": "2021-03-22T20:29:25.972462",
     "exception": false,
     "start_time": "2021-03-22T20:29:25.959661",
     "status": "completed"
    },
    "tags": []
   },
   "outputs": [],
   "source": [
    "# source path and file name (default: data.csv)\n",
    "data_csv = os.environ.get('data_csv', 'data.csv')\n",
    "\n",
    "# destination path and parquet file name (default: data.parquet)\n",
    "output_data_parquet = os.environ.get('output_data_parquet', 'data.parquet')\n",
    "\n",
    "# url of master (default: local mode)\n",
    "master = os.environ.get('master', \"local[*]\")\n",
    "\n",
    "# temporal data storage for local execution\n",
    "data_dir = os.environ.get('data_dir', '../data/')"
   ]
  },
  {
   "cell_type": "code",
   "execution_count": 14,
   "id": "7ff12eff-e0f6-4301-b9a6-8a61caa33435",
   "metadata": {},
   "outputs": [],
   "source": [
    "# override parameters received from a potential call using %run magic\n",
    "parameters = list(\n",
    "  map(\n",
    "      lambda s: re.sub('$', '\"', s),\n",
    "      map(\n",
    "          lambda s: s.replace('=', '=\"'),\n",
    "          filter(\n",
    "              lambda s: s.find('=') > -1 and bool(re.match('[A-Za-z0-9_]*=[.\\/A-Za-z0-9]*', s)),\n",
    "              sys.argv\n",
    "          )\n",
    "      )\n",
    "  )\n",
    ")\n",
    "\n",
    "for parameter in parameters:\n",
    "    logging.warning('Parameter: '+parameter) \n",
    "    exec(parameter)"
   ]
  },
  {
   "cell_type": "code",
   "execution_count": 15,
   "id": "61619a27-327a-4455-974f-a9eeff040a5f",
   "metadata": {},
   "outputs": [],
   "source": [
    "data_parquet = os.environ.get('data_parquet', 'data.parquet')\n",
    "if os.path.exists(data_dir + data_parquet):\n",
    "    skip = True"
   ]
  },
  {
   "cell_type": "code",
   "execution_count": 16,
   "id": "spatial-premiere",
   "metadata": {
    "papermill": {
     "duration": 0.013595,
     "end_time": "2021-03-22T20:29:25.991349",
     "exception": false,
     "start_time": "2021-03-22T20:29:25.977754",
     "status": "completed"
    },
    "tags": []
   },
   "outputs": [],
   "source": [
    "skip = False\n",
    "if os.path.exists(data_dir + data_parquet):\n",
    "    skip = True"
   ]
  },
  {
   "cell_type": "code",
   "execution_count": 17,
   "id": "welsh-grave",
   "metadata": {
    "papermill": {
     "duration": 4.178678,
     "end_time": "2021-03-22T20:29:30.176328",
     "exception": false,
     "start_time": "2021-03-22T20:29:25.997650",
     "status": "completed"
    },
    "tags": []
   },
   "outputs": [],
   "source": [
    "if not skip:\n",
    "    sc = SparkContext.getOrCreate(SparkConf().setMaster(master))\n",
    "    spark = SparkSession.builder.getOrCreate()"
   ]
  },
  {
   "cell_type": "code",
   "execution_count": 18,
   "id": "adjacent-yemen",
   "metadata": {
    "papermill": {
     "duration": 4.693188,
     "end_time": "2021-03-22T20:29:34.875295",
     "exception": false,
     "start_time": "2021-03-22T20:29:30.182107",
     "status": "completed"
    },
    "tags": []
   },
   "outputs": [],
   "source": [
    "if not skip:\n",
    "    df = spark.read.option('header', 'true').csv(data_dir + data_csv)"
   ]
  },
  {
   "cell_type": "code",
   "execution_count": 19,
   "id": "metropolitan-issue",
   "metadata": {
    "papermill": {
     "duration": 458.264571,
     "end_time": "2021-03-22T20:37:13.150144",
     "exception": false,
     "start_time": "2021-03-22T20:29:34.885573",
     "status": "completed"
    },
    "tags": []
   },
   "outputs": [],
   "source": [
    "if not skip:\n",
    "    df.write.parquet(data_dir + output_data_parquet)"
   ]
  },
  {
   "cell_type": "code",
   "execution_count": null,
   "id": "d8cdc37f-c8e6-4ab2-9355-b76ff8adf7fd",
   "metadata": {},
   "outputs": [],
   "source": []
  }
 ],
 "metadata": {
  "kernelspec": {
   "display_name": "Python 3.8 - Spark(ETL)",
   "language": "python",
   "name": "etl"
  },
  "language_info": {
   "codemirror_mode": {
    "name": "ipython",
    "version": 3
   },
   "file_extension": ".py",
   "mimetype": "text/x-python",
   "name": "python",
   "nbconvert_exporter": "python",
   "pygments_lexer": "ipython3",
   "version": "3.8.0"
  },
  "papermill": {
   "default_parameters": {},
   "duration": 470.538548,
   "end_time": "2021-03-22T20:37:13.369954",
   "environment_variables": {},
   "exception": null,
   "input_path": "/home/jovyan/work/examples/pipelines/pairs/component-library/transform/spark-csv-to-parquet.ipynb",
   "output_path": "/home/jovyan/work/examples/pipelines/pairs/component-library/transform/spark-csv-to-parquet.ipynb",
   "parameters": {},
   "start_time": "2021-03-22T20:29:22.831406",
   "version": "2.3.3"
  }
 },
 "nbformat": 4,
 "nbformat_minor": 5
}
