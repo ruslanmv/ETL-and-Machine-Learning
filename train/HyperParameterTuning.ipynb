{
 "cells": [
  {
   "cell_type": "code",
   "execution_count": 1,
   "id": "2bd39882-99c4-4ddd-8ad6-30a7403565df",
   "metadata": {},
   "outputs": [],
   "source": [
    "from pyspark import SparkContext, SparkConf, SQLContext\n",
    "import os\n",
    "from pyspark.ml.classification import LogisticRegression\n",
    "from pyspark.ml import Pipeline\n",
    "from pyspark.ml.evaluation import MulticlassClassificationEvaluator\n",
    "from pyspark2pmml import PMMLBuilder\n",
    "from pyspark.ml.feature import StringIndexer\n",
    "from pyspark.ml.feature import VectorAssembler\n",
    "from pyspark.ml.feature import MinMaxScaler\n",
    "import logging\n",
    "import shutil\n",
    "import site\n",
    "import sys\n",
    "import wget\n",
    "import re\n",
    "import pandas as pd\n",
    "import numpy as np"
   ]
  },
  {
   "cell_type": "code",
   "execution_count": 2,
   "id": "8a3c2df6-3192-476a-bcf4-335e6fca0884",
   "metadata": {},
   "outputs": [],
   "source": [
    "data_parquet = os.environ.get('data_parquet',\n",
    "                              'data.parquet')  # input file name (parquet)\n",
    "master = os.environ.get('master',\n",
    "                        \"local[*]\")  # URL to Spark master\n",
    "model_target = os.environ.get('model_target',\n",
    "                              \"model.xml\")  # model output file name\n",
    "data_dir = os.environ.get('data_dir',\n",
    "                          '../data/')  # temporary directory for data\n",
    "input_columns = os.environ.get('input_columns',\n",
    "                               '[\"x\", \"y\", \"z\"]')  # input columns to consider"
   ]
  },
  {
   "cell_type": "code",
   "execution_count": 3,
   "id": "5894bb3e-30f0-4bc7-ac3e-fe9e65d149a3",
   "metadata": {},
   "outputs": [],
   "source": [
    "parameters = list(\n",
    "  map(\n",
    "      lambda s: re.sub('$', '\"', s),\n",
    "      map(\n",
    "          lambda s: s.replace('=', '=\"'),\n",
    "          filter(\n",
    "              lambda s: s.find('=') > -1 and bool(re.match('[A-Za-z0-9_]*=[.\\/A-Za-z0-9]*', s)),\n",
    "              sys.argv\n",
    "          )\n",
    "      )\n",
    "  )\n",
    ")\n",
    "\n",
    "for parameter in parameters:\n",
    "    logging.warning('Parameter: '+parameter) \n",
    "    exec(parameter)"
   ]
  },
  {
   "cell_type": "code",
   "execution_count": 4,
   "id": "24a5b439-07df-4fd6-b427-164c337b7f26",
   "metadata": {},
   "outputs": [],
   "source": [
    "conf = SparkConf().setMaster(master)"
   ]
  },
  {
   "cell_type": "code",
   "execution_count": 5,
   "id": "d0401bc7-af4e-4d6e-aec0-e0af1a23b075",
   "metadata": {},
   "outputs": [
    {
     "data": {
      "text/plain": [
       "<pyspark.conf.SparkConf at 0x162fd611040>"
      ]
     },
     "execution_count": 5,
     "metadata": {},
     "output_type": "execute_result"
    }
   ],
   "source": [
    "conf.set(\"spark.jars\", 'jpmml-sparkml-executable-1.6.5.jar')"
   ]
  },
  {
   "cell_type": "code",
   "execution_count": 6,
   "id": "67c9d4f5-e9d4-4e24-a2c4-2d31b18e3059",
   "metadata": {},
   "outputs": [],
   "source": [
    "sc = SparkContext.getOrCreate(conf)\n",
    "sqlContext = SQLContext(sc)\n",
    "spark = sqlContext.sparkSession"
   ]
  },
  {
   "cell_type": "code",
   "execution_count": 7,
   "id": "041f5607-51f2-4384-8795-2107fa808cd0",
   "metadata": {},
   "outputs": [],
   "source": [
    "df = spark.read.parquet(data_dir + data_parquet)"
   ]
  },
  {
   "cell_type": "code",
   "execution_count": 8,
   "id": "9448f8ce-5202-4c69-b5cc-505a80092067",
   "metadata": {},
   "outputs": [],
   "source": [
    "# register a corresponding query table\n",
    "df.createOrReplaceTempView('df')"
   ]
  },
  {
   "cell_type": "code",
   "execution_count": 9,
   "id": "c47cc2e7-0c88-4090-9f6e-41843738520c",
   "metadata": {},
   "outputs": [],
   "source": [
    "from pyspark.sql.types import DoubleType\n",
    "df = df.withColumn(\"x\", df.x.cast(DoubleType()))\n",
    "df = df.withColumn(\"y\", df.y.cast(DoubleType()))\n",
    "df = df.withColumn(\"z\", df.z.cast(DoubleType()))"
   ]
  },
  {
   "cell_type": "code",
   "execution_count": 10,
   "id": "4e1d9c84-f8fe-4ec4-8ba3-fef4d121647f",
   "metadata": {},
   "outputs": [],
   "source": [
    "splits = df.randomSplit([0.8, 0.2])\n",
    "df_train = splits[0]\n",
    "df_test = splits[1]"
   ]
  },
  {
   "cell_type": "code",
   "execution_count": 11,
   "id": "1be02024-cfbc-4cce-81a1-1e56298ac3b7",
   "metadata": {},
   "outputs": [],
   "source": [
    "indexer = StringIndexer(inputCol=\"class\", outputCol=\"label\")\n",
    "\n",
    "vectorAssembler = VectorAssembler(inputCols=eval(input_columns),\n",
    "                                  outputCol=\"features\")\n",
    "\n",
    "normalizer = MinMaxScaler(inputCol=\"features\", outputCol=\"features_norm\")"
   ]
  },
  {
   "cell_type": "code",
   "execution_count": 12,
   "id": "fc509d31-e6ad-4ef0-8c77-a09f3eb444d3",
   "metadata": {},
   "outputs": [],
   "source": [
    "def HyperParameterTuning(maxIterV,regParamV,elasticNetParamV):\n",
    "    lr = LogisticRegression(maxIter=maxIterV, regParam=regParamV, elasticNetParam=elasticNetParamV)\n",
    "    pipeline = Pipeline(stages=[indexer, vectorAssembler, normalizer, lr])\n",
    "    model = pipeline.fit(df_train)\n",
    "    prediction = model.transform(df_train)\n",
    "    binEval = MulticlassClassificationEvaluator(). \\\n",
    "        setMetricName(\"accuracy\"). \\\n",
    "        setPredictionCol(\"prediction\"). \\\n",
    "        setLabelCol(\"label\")\n",
    "    res=binEval.evaluate(prediction)\n",
    "    return res"
   ]
  },
  {
   "cell_type": "code",
   "execution_count": 13,
   "id": "982d4f4e-7a6a-4e30-8cc4-aa35e1ba143f",
   "metadata": {},
   "outputs": [
    {
     "name": "stdout",
     "output_type": "stream",
     "text": [
      "1 maxIter= 10 regParam= 0.01 elasticNetParam=0.00,  evaluation = 0.32804948772472453 \n",
      "2 maxIter= 10 regParam= 0.01 elasticNetParam=0.50,  evaluation = 0.3338012030134169 \n",
      "3 maxIter= 10 regParam= 0.01 elasticNetParam=1.00,  evaluation = 0.3167897976393593 \n",
      "4 maxIter= 10 regParam= 0.5 elasticNetParam=0.00,  evaluation = 0.2222156851209037 \n",
      "5 maxIter= 10 regParam= 0.5 elasticNetParam=0.50,  evaluation = 0.2067227549959797 \n",
      "6 maxIter= 10 regParam= 0.5 elasticNetParam=1.00,  evaluation = 0.2067227549959797 \n",
      "7 maxIter= 10 regParam= 2.0 elasticNetParam=0.00,  evaluation = 0.2067227549959797 \n",
      "8 maxIter= 10 regParam= 2.0 elasticNetParam=0.50,  evaluation = 0.2067227549959797 \n",
      "9 maxIter= 10 regParam= 2.0 elasticNetParam=1.00,  evaluation = 0.2067227549959797 \n",
      "10 maxIter= 100 regParam= 0.01 elasticNetParam=0.00,  evaluation = 0.3460722760599209 \n",
      "11 maxIter= 100 regParam= 0.01 elasticNetParam=0.50,  evaluation = 0.35314635355819096 \n",
      "12 maxIter= 100 regParam= 0.01 elasticNetParam=1.00,  evaluation = 0.34764398199121976 \n",
      "13 maxIter= 100 regParam= 0.5 elasticNetParam=0.00,  evaluation = 0.2412890790251501 \n",
      "14 maxIter= 100 regParam= 0.5 elasticNetParam=0.50,  evaluation = 0.2067227549959797 \n",
      "15 maxIter= 100 regParam= 0.5 elasticNetParam=1.00,  evaluation = 0.2067227549959797 \n",
      "16 maxIter= 100 regParam= 2.0 elasticNetParam=0.00,  evaluation = 0.2067227549959797 \n",
      "17 maxIter= 100 regParam= 2.0 elasticNetParam=0.50,  evaluation = 0.2067227549959797 \n",
      "18 maxIter= 100 regParam= 2.0 elasticNetParam=1.00,  evaluation = 0.2067227549959797 \n",
      "19 maxIter= 1000 regParam= 0.01 elasticNetParam=0.00,  evaluation = 0.34707805579135814 \n",
      "20 maxIter= 1000 regParam= 0.01 elasticNetParam=0.50,  evaluation = 0.34940339611752214 \n",
      "21 maxIter= 1000 regParam= 0.01 elasticNetParam=1.00,  evaluation = 0.35267007903355496 \n",
      "22 maxIter= 1000 regParam= 0.5 elasticNetParam=0.00,  evaluation = 0.2412890790251501 \n",
      "23 maxIter= 1000 regParam= 0.5 elasticNetParam=0.50,  evaluation = 0.2067227549959797 \n",
      "24 maxIter= 1000 regParam= 0.5 elasticNetParam=1.00,  evaluation = 0.2067227549959797 \n",
      "25 maxIter= 1000 regParam= 2.0 elasticNetParam=0.00,  evaluation = 0.2067227549959797 \n",
      "26 maxIter= 1000 regParam= 2.0 elasticNetParam=0.50,  evaluation = 0.2067227549959797 \n",
      "27 maxIter= 1000 regParam= 2.0 elasticNetParam=1.00,  evaluation = 0.2067227549959797 \n"
     ]
    }
   ],
   "source": [
    "df = pd.DataFrame(columns=[\"maxIter\", \"regParam\",\"elasticNetParam\",\"evaluation\"])\n",
    "columns = list(df)\n",
    "data = []\n",
    "index=0\n",
    "import numpy as np\n",
    "for maxIterV in [10, 100, 1000]: # np.arange(10, 20, 5):\n",
    "    for regParamV in  [0.01, 0.5, 2.0]: \n",
    "        for elasticNetParamV in [0.0, 0.5, 1.0]:\n",
    "            index+=1\n",
    "            maxIterb= np.int16(maxIterV).item()          \n",
    "            regParamb=np.float32(regParamV).item()  \n",
    "            elasticNetParamb=np.float32(elasticNetParamV).item()  \n",
    "            resV=HyperParameterTuning(maxIterb,regParamb,elasticNetParamb)\n",
    "            #resV=0\n",
    "            stuff_in_string = \"maxIter= {} regParam= {} elasticNetParam={:.2f},  evaluation = {} \".format(maxIterV, regParamV,elasticNetParamV,resV)\n",
    "            values = [maxIterV,regParamV,elasticNetParamV,resV]\n",
    "            zipped = zip(columns, values)\n",
    "            a_dictionary = dict(zipped)\n",
    "            data.append(a_dictionary) \n",
    "            print(index,stuff_in_string)\n",
    "df = df.append(data, True)"
   ]
  },
  {
   "cell_type": "code",
   "execution_count": 14,
   "id": "4c49a9d2-3706-4ee4-96df-5db2596b54e6",
   "metadata": {},
   "outputs": [
    {
     "data": {
      "text/html": [
       "<div>\n",
       "<style scoped>\n",
       "    .dataframe tbody tr th:only-of-type {\n",
       "        vertical-align: middle;\n",
       "    }\n",
       "\n",
       "    .dataframe tbody tr th {\n",
       "        vertical-align: top;\n",
       "    }\n",
       "\n",
       "    .dataframe thead th {\n",
       "        text-align: right;\n",
       "    }\n",
       "</style>\n",
       "<table border=\"1\" class=\"dataframe\">\n",
       "  <thead>\n",
       "    <tr style=\"text-align: right;\">\n",
       "      <th></th>\n",
       "      <th>maxIter</th>\n",
       "      <th>regParam</th>\n",
       "      <th>elasticNetParam</th>\n",
       "      <th>evaluation</th>\n",
       "    </tr>\n",
       "  </thead>\n",
       "  <tbody>\n",
       "    <tr>\n",
       "      <th>0</th>\n",
       "      <td>10</td>\n",
       "      <td>0.01</td>\n",
       "      <td>0.0</td>\n",
       "      <td>0.328049</td>\n",
       "    </tr>\n",
       "    <tr>\n",
       "      <th>1</th>\n",
       "      <td>10</td>\n",
       "      <td>0.01</td>\n",
       "      <td>0.5</td>\n",
       "      <td>0.333801</td>\n",
       "    </tr>\n",
       "    <tr>\n",
       "      <th>2</th>\n",
       "      <td>10</td>\n",
       "      <td>0.01</td>\n",
       "      <td>1.0</td>\n",
       "      <td>0.316790</td>\n",
       "    </tr>\n",
       "    <tr>\n",
       "      <th>3</th>\n",
       "      <td>10</td>\n",
       "      <td>0.50</td>\n",
       "      <td>0.0</td>\n",
       "      <td>0.222216</td>\n",
       "    </tr>\n",
       "    <tr>\n",
       "      <th>4</th>\n",
       "      <td>10</td>\n",
       "      <td>0.50</td>\n",
       "      <td>0.5</td>\n",
       "      <td>0.206723</td>\n",
       "    </tr>\n",
       "  </tbody>\n",
       "</table>\n",
       "</div>"
      ],
      "text/plain": [
       "  maxIter  regParam  elasticNetParam  evaluation\n",
       "0      10      0.01              0.0    0.328049\n",
       "1      10      0.01              0.5    0.333801\n",
       "2      10      0.01              1.0    0.316790\n",
       "3      10      0.50              0.0    0.222216\n",
       "4      10      0.50              0.5    0.206723"
      ]
     },
     "execution_count": 14,
     "metadata": {},
     "output_type": "execute_result"
    }
   ],
   "source": [
    "df.head()"
   ]
  },
  {
   "cell_type": "code",
   "execution_count": 15,
   "id": "99272cfd-02c4-4107-86a2-3c2e4a4e43dc",
   "metadata": {},
   "outputs": [
    {
     "name": "stdout",
     "output_type": "stream",
     "text": [
      "   maxIter  regParam  elasticNetParam  evaluation\n",
      "4       10       0.5              0.5    0.206723\n",
      "5       10       0.5              1.0    0.206723\n",
      "6       10       2.0              0.0    0.206723\n",
      "7       10       2.0              0.5    0.206723\n",
      "8       10       2.0              1.0    0.206723\n",
      "13     100       0.5              0.5    0.206723\n",
      "14     100       0.5              1.0    0.206723\n",
      "15     100       2.0              0.0    0.206723\n",
      "16     100       2.0              0.5    0.206723\n",
      "17     100       2.0              1.0    0.206723\n",
      "22    1000       0.5              0.5    0.206723\n",
      "23    1000       0.5              1.0    0.206723\n",
      "24    1000       2.0              0.0    0.206723\n",
      "25    1000       2.0              0.5    0.206723\n",
      "26    1000       2.0              1.0    0.206723\n"
     ]
    }
   ],
   "source": [
    "print(df[df.evaluation == df.evaluation.min()])"
   ]
  },
  {
   "cell_type": "code",
   "execution_count": null,
   "id": "aeabcc14-321a-40e1-a01b-b416a421b933",
   "metadata": {},
   "outputs": [],
   "source": []
  }
 ],
 "metadata": {
  "kernelspec": {
   "display_name": "Python 3.8 - Spark(ETL)",
   "language": "python",
   "name": "etl"
  },
  "language_info": {
   "codemirror_mode": {
    "name": "ipython",
    "version": 3
   },
   "file_extension": ".py",
   "mimetype": "text/x-python",
   "name": "python",
   "nbconvert_exporter": "python",
   "pygments_lexer": "ipython3",
   "version": "3.8.0"
  }
 },
 "nbformat": 4,
 "nbformat_minor": 5
}
